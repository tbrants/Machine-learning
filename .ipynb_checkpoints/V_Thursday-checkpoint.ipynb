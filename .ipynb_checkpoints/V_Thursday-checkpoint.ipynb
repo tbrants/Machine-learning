{
 "cells": [
  {
   "cell_type": "markdown",
   "metadata": {},
   "source": [
    "# 1. Imports and path-setting"
   ]
  },
  {
   "cell_type": "code",
   "execution_count": 1,
   "metadata": {},
   "outputs": [],
   "source": [
    "%matplotlib inline\n",
    "%load_ext autoreload\n",
    "%autoreload 2\n",
    "from functions import *\n",
    "dirname = os.path.dirname('__file__')\n",
    "DATA_TRAIN_PATH = os.path.join(dirname, 'data/train.csv')\n",
    "y, tx, ids = load_csv_data(DATA_TRAIN_PATH)\n",
    "\n",
    "DATA_TEST_PATH = os.path.join(dirname, 'data/test.csv') # TODO: download train data and supply path here \n",
    "_, tx_test, ids_test = load_csv_data(DATA_TEST_PATH)\n",
    "\n",
    "OUTPUT_PATH = os.path.join(dirname, 'data/predictions.csv') # TODO: fill in desired name of output file for submission"
   ]
  },
  {
   "cell_type": "code",
   "execution_count": 2,
   "metadata": {},
   "outputs": [
    {
     "name": "stderr",
     "output_type": "stream",
     "text": [
      "C:\\Users\\Arthur Deleu\\Documents\\Documenten EPFL\\Machine Learning\\Machine-learning\\functions.py:72: RuntimeWarning: invalid value encountered in log1p\n",
      "  tx[:, skewed_indices] = np.log1p(tx[:, skewed_indices])\n",
      "C:\\Users\\Arthur Deleu\\Documents\\Documenten EPFL\\Machine Learning\\Machine-learning\\functions.py:44: RuntimeWarning: invalid value encountered in true_divide\n",
      "  tx[:,j] = (col-np.mean(col))/np.std(col)\n",
      "C:\\Users\\Arthur Deleu\\Documents\\Documenten EPFL\\Machine Learning\\Machine-learning\\functions.py:25: RuntimeWarning: Mean of empty slice\n",
      "  avg_column = np.array([np.nanmean(tx_999, axis=0)])\n"
     ]
    }
   ],
   "source": [
    "X_TRAIN_jets, Y_TRAIN_jets, X_TEST = create_subdata_jetnumber(tx, y, tx_test)\n",
    "    # beste model 3 keer trainen op de 3 jet datasets"
   ]
  },
  {
   "cell_type": "code",
   "execution_count": 3,
   "metadata": {},
   "outputs": [],
   "source": [
    "#print(balance_data(X_TRAIN_jets[0], Y_TRAIN_jets[0], .5))\n",
    "#print(balance_data(X_TRAIN_jets[1], Y_TRAIN_jets[1], .5))\n",
    "#print(balance_data(X_TRAIN_jets[2], Y_TRAIN_jets[2], .5))"
   ]
  },
  {
   "cell_type": "code",
   "execution_count": null,
   "metadata": {},
   "outputs": [],
   "source": [
    "degree = 5\n",
    "lambda_ = 0.001\n",
    "initial_w = 0\n",
    "max_iters = 100\n",
    "gamma = 0\n",
    "\n",
    "call_cross_validation(y, tx, k=3, degree=degree, seed=2, opt_method=least_squares, initial_w=np.ones(tx.shape[1]  * degree + 1), max_iters=20, gamma=0.0000001, lambda_=10)\n",
    "\n"
   ]
  },
  {
   "cell_type": "code",
   "execution_count": 14,
   "metadata": {},
   "outputs": [
    {
     "name": "stdout",
     "output_type": "stream",
     "text": [
      "least_squares\n",
      "Least squares: RMSE is  nan\n",
      "TP =  0 ; FP =  0 ; TN =  0 ; FN =  0\n",
      "F1 = 0\n",
      "Accuracy = 0\n",
      "least_squares\n",
      "Least squares: RMSE is  nan\n",
      "TP =  0 ; FP =  0 ; TN =  0 ; FN =  0\n",
      "F1 = 0\n",
      "Accuracy = 0\n",
      "least_squares\n",
      "Least squares: RMSE is  nan\n",
      "TP =  0 ; FP =  0 ; TN =  0 ; FN =  0\n",
      "F1 = 0\n",
      "Accuracy = 0\n",
      "least_squares\n",
      "Least squares: RMSE is  nan\n",
      "TP =  0 ; FP =  0 ; TN =  0 ; FN =  0\n",
      "F1 = 0\n",
      "Accuracy = 0\n",
      "least_squares\n",
      "Least squares: RMSE is  nan\n",
      "TP =  0 ; FP =  0 ; TN =  0 ; FN =  0\n",
      "F1 = 0\n",
      "Accuracy = 0\n",
      "least_squares\n",
      "Least squares: RMSE is  nan\n",
      "TP =  0 ; FP =  0 ; TN =  0 ; FN =  0\n",
      "F1 = 0\n",
      "Accuracy = 0\n",
      "least_squares\n",
      "Least squares: RMSE is  nan\n",
      "TP =  0 ; FP =  0 ; TN =  0 ; FN =  0\n",
      "F1 = 0\n",
      "Accuracy = 0\n",
      "least_squares\n",
      "Least squares: RMSE is  nan\n",
      "TP =  0 ; FP =  0 ; TN =  0 ; FN =  0\n",
      "F1 = 0\n",
      "Accuracy = 0\n"
     ]
    }
   ],
   "source": [
    "w_0, tr_loss_0, te_loss_0, f1_0, acc_0 = call_cross_validation(Y_TRAIN_jets[0], X_TRAIN_jets[0], 4, 6, 4, least_squares, initial_w, max_iters, gamma, 1e-11)\n",
    "\n",
    "\n",
    "w_1, tr_loss_1, te_loss_1, f1_1, acc_1 = call_cross_validation(Y_TRAIN_jets[1], X_TRAIN_jets[1], 4, 6, 4, least_squares, initial_w, max_iters, gamma, 1e-11)\n",
    "\n"
   ]
  },
  {
   "cell_type": "code",
   "execution_count": 15,
   "metadata": {},
   "outputs": [
    {
     "ename": "SyntaxError",
     "evalue": "invalid syntax (<ipython-input-15-f4261d2d7aec>, line 1)",
     "output_type": "error",
     "traceback": [
      "\u001b[1;36m  File \u001b[1;32m\"<ipython-input-15-f4261d2d7aec>\"\u001b[1;36m, line \u001b[1;32m1\u001b[0m\n\u001b[1;33m    w_2, tr_loss_2 te_loss_2, f1_2, acc_2 = call_cross_validation(Y_TRAIN_jets[2], X_TRAIN_jets[2], 4, 6, 4, least_squares, initial_w, max_iters, gamma, 1e-11)\u001b[0m\n\u001b[1;37m                           ^\u001b[0m\n\u001b[1;31mSyntaxError\u001b[0m\u001b[1;31m:\u001b[0m invalid syntax\n"
     ]
    }
   ],
   "source": [
    "w_2, tr_loss_2 te_loss_2, f1_2, acc_2 = call_cross_validation(Y_TRAIN_jets[2], X_TRAIN_jets[2], 4, 6, 4, least_squares, initial_w, max_iters, gamma, 1e-11)\n"
   ]
  },
  {
   "cell_type": "code",
   "execution_count": null,
   "metadata": {},
   "outputs": [],
   "source": []
  }
 ],
 "metadata": {
  "kernelspec": {
   "display_name": "Python 3",
   "language": "python",
   "name": "python3"
  },
  "language_info": {
   "codemirror_mode": {
    "name": "ipython",
    "version": 3
   },
   "file_extension": ".py",
   "mimetype": "text/x-python",
   "name": "python",
   "nbconvert_exporter": "python",
   "pygments_lexer": "ipython3",
   "version": "3.7.4"
  }
 },
 "nbformat": 4,
 "nbformat_minor": 4
}
