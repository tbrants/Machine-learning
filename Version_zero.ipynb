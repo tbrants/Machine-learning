{
 "cells": [
  {
   "cell_type": "code",
   "execution_count": 1,
   "id": "1a01387d",
   "metadata": {},
   "outputs": [],
   "source": [
    "# Useful starting lines\n",
    "%matplotlib inline\n",
    "import numpy as np\n",
    "import matplotlib.pyplot as plt\n",
    "%load_ext autoreload\n",
    "%autoreload 2\n",
    "import os\n",
    "import seaborn as sns\n",
    "from proj1_helpers import *\n",
    "\n",
    "SEED = 56"
   ]
  },
  {
   "cell_type": "code",
   "execution_count": 2,
   "id": "83bfb138",
   "metadata": {},
   "outputs": [
    {
     "name": "stdout",
     "output_type": "stream",
     "text": [
      "(250000,)\n",
      "(250000, 30)\n",
      "(250000,)\n"
     ]
    }
   ],
   "source": [
    "#its my datapath\n",
    "DATA_TRAIN_PATH = r'C:/Users/Tomas/GitHub/ML_course/projects/project1/data/train1.csv/train.csv' # TODO: download train data and supply path here\n",
    "y, tx, ids = load_csv_data(DATA_TRAIN_PATH)\n",
    "print(y.shape)\n",
    "print(tx.shape)\n",
    "print(ids.shape)"
   ]
  },
  {
   "cell_type": "code",
   "execution_count": 3,
   "id": "a9972ae2",
   "metadata": {},
   "outputs": [],
   "source": [
    "#rmse calculation\n",
    "def compute_error(y, tx, w):\n",
    "    e = y-np.matmul(tx, w)\n",
    "    return e\n",
    "\n",
    "def compute_loss(y, tx, w):\n",
    "    N = len(y)\n",
    "    e = compute_error(y, tx, w)\n",
    "    mse = 1/(2*N)*np.sum(e**2)\n",
    "    rmse = np.sqrt(2*mse)\n",
    "    return rmse"
   ]
  },
  {
   "cell_type": "code",
   "execution_count": 4,
   "id": "583fbfe6",
   "metadata": {},
   "outputs": [],
   "source": [
    "#gradient descent\n",
    "def compute_gradient(y, tx, w):\n",
    "    N = len(y)\n",
    "    e = compute_error(y, tx, w)\n",
    "    grad = (-1/N)*np.matmul(tx.T,e)\n",
    "    return grad\n",
    "\n",
    "def least_squares_GD(y, tx, initial_w, max_iters, gamma):\n",
    "    w = initial_w\n",
    "    for n_iter in range(max_iters):\n",
    "        grad = compute_gradient(y, tx, w)\n",
    "        w -= gamma*grad\n",
    "    loss = compute_loss(y, tx, w)\n",
    "    print(\"Gradient Descent: train loss is \", loss)\n",
    "    return w, loss"
   ]
  },
  {
   "cell_type": "code",
   "execution_count": 5,
   "id": "da57d12c",
   "metadata": {},
   "outputs": [],
   "source": [
    "#stochastic gradient descent\n",
    "def compute_stoch_gradient(y, tx, w):\n",
    "    N = len(y)\n",
    "    e = compute_error(y, tx, w)\n",
    "    grad = (-1/N)*np.matmul(tx.T,e)\n",
    "    return grad\n",
    "\n",
    "def least_squares_SGD(y, tx, initial_w, max_iters, gamma,  batch_size = 1):\n",
    "    losses = []\n",
    "    w = initial_w\n",
    "    for n_iter in range(max_iters):\n",
    "        for ymini, txmini in batch_iter(y, tx, batch_size, num_batches=1, shuffle=True):\n",
    "            grad = compute_gradient(ymini, txmini, w)\n",
    "            w -= gamma*grad\n",
    "    loss = compute_loss(ymini, txmini, w)\n",
    "    print(\"Stochastic Gradient Descent: train loss is \", loss)\n",
    "    return w, loss"
   ]
  },
  {
   "cell_type": "code",
   "execution_count": 6,
   "id": "3a20d320",
   "metadata": {},
   "outputs": [],
   "source": [
    "#least squares\n",
    "def least_squares(y, tx):\n",
    "    N = len(y)\n",
    "    w = np.linalg.solve(np.matmul(tx.T, tx), np.matmul(tx.T,y))\n",
    "    loss = compute_loss(y, tx, w)\n",
    "    print(\"Least squares: train loss is \", loss)\n",
    "    return w, loss"
   ]
  },
  {
   "cell_type": "code",
   "execution_count": 7,
   "id": "9d570b8b",
   "metadata": {},
   "outputs": [],
   "source": [
    "#ridge regression\n",
    "def ridge_regression(y, phi, lambda_):\n",
    "    N=len(phi)\n",
    "    lambda_acc=2*N*lambda_\n",
    "    kwad = np.matmul(phi.T,phi)\n",
    "    w = np.linalg.solve(kwad+lambda_acc*np.eye(kwad.shape[0]),np.matmul(phi.T,y))\n",
    "    loss = compute_loss(y, phi, w)\n",
    "    print(\"Ridge regression: train loss is \", loss)\n",
    "    return w, loss"
   ]
  },
  {
   "cell_type": "code",
   "execution_count": 8,
   "id": "ccfd20d3",
   "metadata": {},
   "outputs": [],
   "source": [
    "#helper functions for logistic regression\n",
    "def sigmoid(t):\n",
    "    \"\"\"apply the sigmoid function on t.\"\"\"\n",
    "    return 1/(1 + np.exp(-t))\n",
    "\n",
    "def calculate_loss_lr(y, tx, w):\n",
    "    eps = 1e-6\n",
    "    \"\"\"compute the loss: negative log likelihood.\"\"\"\n",
    "    pred = sigmoid(np.matmul(tx, w))\n",
    "    a = np.matmul(y.T, np.log(pred+eps)) \n",
    "    b = np.matmul((1-y).T, np.log(1-pred+eps))\n",
    "    loss = a+b\n",
    "    return np.sum(- loss)\n",
    "\n",
    "def calculate_gradient_lr(y, tx, w):\n",
    "    \"\"\"compute the gradient of loss.\"\"\"\n",
    "    pred = sigmoid(np.matmul(tx, w)) \n",
    "    grad = np.matmul(tx.T,(pred - y))\n",
    "    return grad\n",
    "\n",
    "def penalized_logistic_regression(y, tx, w, lambda_):\n",
    "    \"\"\"return the loss, gradient\"\"\"\n",
    "    loss = calculate_loss_lr(y, tx, w) + lambda_*np.sum(w.T.dot(w))\n",
    "    gradient = calculate_gradient_lr(y,tx,w)+2*lambda_*w\n",
    "    return loss, gradient"
   ]
  },
  {
   "cell_type": "code",
   "execution_count": 9,
   "id": "886a7664",
   "metadata": {},
   "outputs": [],
   "source": [
    "#logistic regression gradient descent\n",
    "def logistic_regression_gd(y, tx, initial_w, max_iters, gamma):\n",
    "    w = initial_w\n",
    "    for iter in range(max_iters):\n",
    "        grad = calculate_gradient_lr(y, tx, w)\n",
    "        w -= gamma*grad\n",
    "        #loss = calculate_loss_lr(y, tx, w)\n",
    "        #print(loss)\n",
    "    loss = calculate_loss_lr(y, tx, w)\n",
    "    print(\"Logistic regression: train loss is \", loss)\n",
    "    return w, loss"
   ]
  },
  {
   "cell_type": "code",
   "execution_count": 10,
   "id": "a719c9e1",
   "metadata": {},
   "outputs": [],
   "source": [
    "#regularized logistic regression\n",
    "def logistic_regression_reg(y, tx, initial_w, max_iters, gamma, lambda_):\n",
    "    w = initial_w\n",
    "    for iter in range(max_iters):\n",
    "        grad = penalized_logistic_regression(y, tx, w, lambda_)[1]\n",
    "        w -= gamma*grad\n",
    "    loss = penalized_logistic_regression(y, tx, w, lambda_)[0]\n",
    "    print(\"Regularized logistic regression: train loss is \", loss)\n",
    "    return w, loss"
   ]
  },
  {
   "cell_type": "markdown",
   "id": "738b128e",
   "metadata": {},
   "source": [
    "# 2) Evaluation"
   ]
  },
  {
   "cell_type": "code",
   "execution_count": 11,
   "id": "bfb40150",
   "metadata": {},
   "outputs": [
    {
     "data": {
      "text/plain": [
       "'def build_poly_2d(x, degree):\\n    N,M = x.shape\\n    phi = np.zeros((N,M*(degree+1)))\\n    print(phi.shape)\\n    for i in range(M):\\n        col = x[:,i]\\n        exp = build_poly(col, degree)\\n        phi[:, i*(degree+1):(i+1)*(degree)] = exp\\n    return phi\\nx = np.array([[1,2,3],[4,5,6]])\\nprint(build_poly_2d(x, 1))'"
      ]
     },
     "execution_count": 11,
     "metadata": {},
     "output_type": "execute_result"
    }
   ],
   "source": [
    "#polynomial feature augmentation\n",
    "def build_poly(x, degree):\n",
    "    #prof flammarion said it is possible, but i would wait a bit with doing it\n",
    "    return x\n",
    "\"\"\"def build_poly(x, degree):\n",
    "    if degree == 0:\n",
    "        return x\n",
    "    else:\n",
    "        N = len(x)\n",
    "        phi = np.zeros((N,degree+1))\n",
    "        for i in range(degree+1):\n",
    "            phi[:, i] = x**i\n",
    "        return phi\"\"\"\n",
    "\n",
    "\"\"\"def build_poly_2d(x, degree):\n",
    "    N,M = x.shape\n",
    "    phi = np.zeros((N,M*(degree+1)))\n",
    "    print(phi.shape)\n",
    "    for i in range(M):\n",
    "        col = x[:,i]\n",
    "        exp = build_poly(col, degree)\n",
    "        phi[:, i*(degree+1):(i+1)*(degree)] = exp\n",
    "    return phi\n",
    "x = np.array([[1,2,3],[4,5,6]])\n",
    "print(build_poly_2d(x, 1))\"\"\"\n"
   ]
  },
  {
   "cell_type": "code",
   "execution_count": 12,
   "id": "254e77f4",
   "metadata": {},
   "outputs": [],
   "source": [
    "def f1(y_true, y_pred):\n",
    "    TP = len(np.where((y_true == 1) & (y_pred == 1))[0])\n",
    "    FP = len(np.where((y_true == -1) & (y_pred == 1))[0])\n",
    "    TN = len(np.where((y_true == -1) & (y_pred == -1))[0])\n",
    "    FN = len(np.where((y_true == 1) & (y_pred == -1))[0])\n",
    "    print([TP,FP,TN,FN])\n",
    "    if TP+FN>0:\n",
    "        Recall = TP/(TP+FN)\n",
    "    else:\n",
    "        Recall = 0.0001\n",
    "    if TP+FP>0:\n",
    "        Precision = TP/(TP+FP)\n",
    "    else:\n",
    "        Precision = 0.00001\n",
    "    return 2*Recall*Precision/(Recall + Precision)"
   ]
  },
  {
   "cell_type": "code",
   "execution_count": 13,
   "id": "7491bf1e",
   "metadata": {},
   "outputs": [],
   "source": [
    "def accuracy(y_true, y_pred):\n",
    "    TP = len(np.where((y_true == 1) & (y_pred == 1))[0])\n",
    "    return (TP / y_true.shape[0])"
   ]
  },
  {
   "cell_type": "code",
   "execution_count": 14,
   "id": "8ac9acf2",
   "metadata": {},
   "outputs": [],
   "source": [
    "#cross validation\n",
    "def build_k_indices(y, k_fold, seed):\n",
    "    \"\"\"build k indices for k-fold.\"\"\"\n",
    "    num_row = y.shape[0]\n",
    "    interval = int(num_row / k_fold)\n",
    "    np.random.seed(seed)\n",
    "    indices = np.random.permutation(num_row)\n",
    "    k_indices = [indices[k * interval: (k + 1) * interval]\n",
    "                 for k in range(k_fold)]\n",
    "    return np.array(k_indices)\n",
    "\n",
    "\n",
    "def cross_validation(y, x, k_indices, k, degree, opt_method, initial_w, max_iters, gamma, lambda_):\n",
    "    x_train_0, y_train_0 = x[k_indices[:k].ravel()], y[k_indices[:k].ravel()]\n",
    "    x_train_1, y_train_1 = x[k_indices[k+1:].ravel()], y[k_indices[k+1:].ravel()]\n",
    "    if x_train_0.shape[0] == 0:\n",
    "        x_train = x_train_1\n",
    "        y_train = y_train_1\n",
    "    if x_train_1.shape[0] == 0:\n",
    "        x_train = x_train_0\n",
    "        y_train = y_train_0\n",
    "    else:\n",
    "        x_train, y_train = np.concatenate((x_train_0, x_train_1), axis=0), np.concatenate((y_train_0, y_train_1), axis=0)\n",
    "    \n",
    "    x_test, y_test = x[k_indices[k]], y[k_indices[k]]\n",
    "    # get k'th subgroup in test, others in train\n",
    "\n",
    "    \n",
    "    phi_train = build_poly(x_train, degree)\n",
    "    phi_test = build_poly(x_test, degree)\n",
    "    \n",
    "    if opt_method == least_squares_GD:\n",
    "        w, loss_tr = opt_method(y_train, phi_train, initial_w, max_iters, gamma)\n",
    "        loss_te = compute_loss(y_test, phi_test, w)\n",
    "        \n",
    "        #print('least_squares_GD')\n",
    "\n",
    "    elif opt_method == least_squares_SGD:\n",
    "        w, loss_tr = opt_method(y_train, phi_train, initial_w, max_iters, gamma,  batch_size = 1)\n",
    "        loss_te = compute_loss(y_test, phi_test, w)\n",
    "        #print('least_squares_SGD')\n",
    "    \n",
    "    elif opt_method == least_squares:\n",
    "        w, loss_tr = opt_method(y_train, phi_train)\n",
    "        loss_te = compute_loss(y_test, phi_test, w)\n",
    "        #print('least_squares')\n",
    "\n",
    "    elif opt_method == ridge_regression:\n",
    "        w, loss_tr = opt_method(y_train, phi_train, lambda_)\n",
    "        loss_te = compute_loss(y_test, phi_test, w)\n",
    "        #print('ridge_regression')\n",
    "\n",
    "    elif opt_method == logistic_regression_gd:\n",
    "        w, loss_tr = opt_method(y_train, phi_train, initial_w, max_iters, gamma)\n",
    "        loss_te = calculate_loss_lr(y_test, phi_test, w)\n",
    "        #print('logistic_regression_gd')\n",
    "\n",
    "    elif opt_method == logistic_regression_reg:\n",
    "        w, loss_tr = opt_method(y_train, phi_train, initial_w, max_iters, gamma, lambda_)\n",
    "        loss_te = penalized_logistic_regression(y_test, phi_test, w, lambda_)[0]\n",
    "        #print('reg_logistic_regression')\n",
    "\n",
    "    else:\n",
    "        w, loss = (None , None)\n",
    "        test_loss = None\n",
    "        #print(\"Method not found\")\n",
    "    \n",
    "    \n",
    "    y_pred_tr = predict_labels(w, phi_train)\n",
    "    y_pred_te = predict_labels(w, phi_test)\n",
    "    acc_train = accuracy(y_train, y_pred_tr)\n",
    "    f1_train = f1(y_train, y_pred_tr)\n",
    "    acc_test = accuracy(y_test, y_pred_te)\n",
    "    f1_test = f1(y_test, y_pred_te)\n",
    "    \n",
    "    loss = [loss_tr, loss_te]\n",
    "    acc = [acc_train, acc_test]\n",
    "    f1_val = [f1_train, f1_test]\n",
    "    \n",
    "    return loss, acc, f1_val, w"
   ]
  },
  {
   "cell_type": "code",
   "execution_count": 15,
   "id": "5915f486",
   "metadata": {},
   "outputs": [],
   "source": [
    "def apply_cross_validation(y, x, k_indices, k_fold, degree, opt_method, initial_w = 0, max_iters = 0, gamma = 0, lambda_ = 0):\n",
    "    loss_tr = []\n",
    "    loss_te = []\n",
    "    acc_tr = []\n",
    "    acc_te = []\n",
    "    f1_tr = []\n",
    "    f1_te = []\n",
    "    for k in range(k_fold):\n",
    "        loss, acc, f1_val, w = cross_validation(y, x, k_indices, k, degree, opt_method, initial_w, max_iters, gamma, lambda_)\n",
    "        loss_tr.append(loss[0])\n",
    "        loss_te.append(loss[1])\n",
    "        acc_tr.append(acc[0])\n",
    "        acc_te.append(acc[1])\n",
    "        f1_tr.append(f1_val[0])\n",
    "        f1_te.append(f1_val[1])\n",
    "    rmse_tr = np.mean(np.array(loss_tr))\n",
    "    rmse_te = np.mean(np.array(loss_te))\n",
    "    acc_tr_ = np.mean(np.array(acc_tr))\n",
    "    acc_te_ = np.mean(np.array(acc_te))\n",
    "    f1_tr_ = np.mean(np.array(f1_tr))\n",
    "    f1_te_ = np.mean(np.array(f1_te))\n",
    "    print(\"Averaged train rmse after %d-fold cross-validation = %.8f\"%(k_fold, rmse_tr))\n",
    "    print(\"Averaged test rmse after %d-fold cross-validation = %.8f\"%(k_fold, rmse_te))\n",
    "    print(\"Averaged train accuracy after %d-fold cross-validation = %.2f\"%(k_fold, acc_tr_))\n",
    "    print(\"Averaged test accuracy after %d-fold cross-validation = %.2f\"%(k_fold, acc_te_))\n",
    "    print(\"Averaged train F1-score after %d-fold cross-validation = %.2f\"%(k_fold, f1_tr_))\n",
    "    print(\"Averaged test F1-score after %d-fold cross-validation = %.2f\"%(k_fold, f1_te_))\n",
    "    return rmse_tr, rmse_te, acc_tr_, acc_te_, f1_tr_, f1_te_, w"
   ]
  },
  {
   "cell_type": "code",
   "execution_count": 29,
   "id": "29568aef",
   "metadata": {},
   "outputs": [
    {
     "name": "stdout",
     "output_type": "stream",
     "text": [
      "4974.979\n",
      "-999.0\n"
     ]
    }
   ],
   "source": [
    "initial_w = np.zeros((tx.shape[1]))\n",
    "max_iters = 100\n",
    "gamma = 1e-11\n",
    "lambda_ = 0.4\n",
    "print(tx.max())\n",
    "print(tx.min())"
   ]
  },
  {
   "cell_type": "code",
   "execution_count": 30,
   "id": "f6ac7848",
   "metadata": {},
   "outputs": [
    {
     "name": "stdout",
     "output_type": "stream",
     "text": [
      "Gradient Descent: train loss is  0.9992990653651919\n",
      "[24246, 27636, 95530, 40088]\n",
      "[7984, 9206, 31961, 13349]\n",
      "Gradient Descent: train loss is  0.9986007484781765\n",
      "[24040, 27654, 95693, 40113]\n",
      "[8188, 9173, 31813, 13326]\n",
      "Gradient Descent: train loss is  0.9979078271396561\n",
      "[24177, 27594, 95664, 40065]\n",
      "[8051, 9233, 31842, 13374]\n",
      "Gradient Descent: train loss is  0.9972292595530088\n",
      "[24223, 27607, 95621, 40049]\n",
      "[8005, 9218, 31887, 13390]\n",
      "Averaged train rmse after 4-fold cross-validation = 0.99825923\n",
      "Averaged test rmse after 4-fold cross-validation = 0.99826187\n",
      "Averaged train accuracy after 4-fold cross-validation = 0.13\n",
      "Averaged test accuracy after 4-fold cross-validation = 0.13\n",
      "Averaged train F1-score after 4-fold cross-validation = 0.42\n",
      "Averaged test F1-score after 4-fold cross-validation = 0.42\n",
      "Stochastic Gradient Descent: train loss is  0.9998657822900414\n",
      "[24244, 27622, 95544, 40090]\n",
      "[7983, 9201, 31966, 13350]\n",
      "Stochastic Gradient Descent: train loss is  0.9875537454703321\n",
      "[24031, 27592, 95755, 40122]\n",
      "[8186, 9157, 31829, 13328]\n",
      "Stochastic Gradient Descent: train loss is  1.013950560495003\n",
      "[24168, 27541, 95717, 40074]\n",
      "[8048, 9208, 31867, 13377]\n",
      "Stochastic Gradient Descent: train loss is  1.0005256165190153\n",
      "[24215, 27535, 95693, 40057]\n",
      "[8001, 9190, 31915, 13394]\n",
      "Averaged train rmse after 4-fold cross-validation = 1.00047393\n",
      "Averaged test rmse after 4-fold cross-validation = 0.99561313\n",
      "Averaged train accuracy after 4-fold cross-validation = 0.13\n",
      "Averaged test accuracy after 4-fold cross-validation = 0.13\n",
      "Averaged train F1-score after 4-fold cross-validation = 0.42\n",
      "Averaged test F1-score after 4-fold cross-validation = 0.42\n",
      "Least squares: train loss is  0.8250485040346167\n",
      "[31638, 15336, 107830, 32696]\n",
      "[10480, 5019, 36148, 10853]\n",
      "Least squares: train loss is  0.8240421357405285\n",
      "[31546, 15253, 108094, 32607]\n",
      "[10626, 5124, 35862, 10888]\n",
      "Least squares: train loss is  0.8236623215251707\n",
      "[31677, 15405, 107853, 32565]\n",
      "[10455, 5073, 36002, 10970]\n",
      "Least squares: train loss is  0.8241386572570878\n",
      "[31673, 15327, 107901, 32599]\n",
      "[10598, 5211, 35894, 10797]\n",
      "Averaged train rmse after 4-fold cross-validation = 0.82422290\n",
      "Averaged test rmse after 4-fold cross-validation = 0.82436795\n",
      "Averaged train accuracy after 4-fold cross-validation = 0.17\n",
      "Averaged test accuracy after 4-fold cross-validation = 0.17\n",
      "Averaged train F1-score after 4-fold cross-validation = 0.57\n",
      "Averaged test F1-score after 4-fold cross-validation = 0.57\n",
      "Ridge regression: train loss is  0.8250485040346167\n",
      "[31638, 15336, 107830, 32696]\n",
      "[10480, 5019, 36148, 10853]\n",
      "Ridge regression: train loss is  0.8240421357405285\n",
      "[31546, 15253, 108094, 32607]\n",
      "[10626, 5124, 35862, 10888]\n",
      "Ridge regression: train loss is  0.8236623215251707\n",
      "[31677, 15405, 107853, 32565]\n",
      "[10455, 5073, 36002, 10970]\n",
      "Ridge regression: train loss is  0.8241386572570878\n",
      "[31673, 15327, 107901, 32599]\n",
      "[10598, 5211, 35894, 10797]\n",
      "Averaged train rmse after 4-fold cross-validation = 0.82422290\n",
      "Averaged test rmse after 4-fold cross-validation = 0.82436795\n",
      "Averaged train accuracy after 4-fold cross-validation = 0.17\n",
      "Averaged test accuracy after 4-fold cross-validation = 0.17\n",
      "Averaged train F1-score after 4-fold cross-validation = 0.57\n",
      "Averaged test F1-score after 4-fold cross-validation = 0.57\n",
      "Logistic regression: train loss is  -559294.481179826\n",
      "[17913, 16707, 106459, 46421]\n",
      "[5936, 5535, 35632, 15397]\n"
     ]
    },
    {
     "name": "stderr",
     "output_type": "stream",
     "text": [
      "<ipython-input-8-53f4dcbe4310>:4: RuntimeWarning: overflow encountered in exp\n",
      "  return 1/(1 + np.exp(-t))\n"
     ]
    },
    {
     "name": "stdout",
     "output_type": "stream",
     "text": [
      "Logistic regression: train loss is  -494621.3205694757\n",
      "[17804, 16708, 106639, 46349]\n",
      "[6057, 5559, 35427, 15457]\n",
      "Logistic regression: train loss is  -464172.741735844\n",
      "[17952, 16657, 106601, 46290]\n",
      "[5922, 5627, 35448, 15503]\n",
      "Logistic regression: train loss is  -441283.30050221784\n",
      "[17922, 16729, 106499, 46350]\n",
      "[5949, 5545, 35560, 15446]\n",
      "Averaged train rmse after 4-fold cross-validation = -489842.96099684\n",
      "Averaged test rmse after 4-fold cross-validation = -162965.83292609\n",
      "Averaged train accuracy after 4-fold cross-validation = 0.10\n",
      "Averaged test accuracy after 4-fold cross-validation = 0.10\n",
      "Averaged train F1-score after 4-fold cross-validation = 0.36\n",
      "Averaged test F1-score after 4-fold cross-validation = 0.36\n",
      "Regularized logistic regression: train loss is  -426900.13657984836\n",
      "[17916, 16716, 106450, 46418]\n",
      "[5937, 5534, 35633, 15396]\n",
      "Regularized logistic regression: train loss is  -421784.09206788853\n",
      "[17806, 16706, 106641, 46347]\n",
      "[6061, 5561, 35425, 15453]\n",
      "Regularized logistic regression: train loss is  -417931.8394017455\n",
      "[17951, 16651, 106607, 46291]\n",
      "[5919, 5624, 35451, 15506]\n",
      "Regularized logistic regression: train loss is  -408321.9818871063\n",
      "[17921, 16727, 106501, 46351]\n",
      "[5949, 5546, 35559, 15446]\n",
      "Averaged train rmse after 4-fold cross-validation = -418734.51248415\n",
      "Averaged test rmse after 4-fold cross-validation = -139545.10538116\n",
      "Averaged train accuracy after 4-fold cross-validation = 0.10\n",
      "Averaged test accuracy after 4-fold cross-validation = 0.10\n",
      "Averaged train F1-score after 4-fold cross-validation = 0.36\n",
      "Averaged test F1-score after 4-fold cross-validation = 0.36\n"
     ]
    }
   ],
   "source": [
    "#apply cross validation\n",
    "k_fold = 4\n",
    "degree = 1\n",
    "k_indices = build_k_indices(y, k_fold, SEED)\n",
    "\n",
    "methods = ['LS_GD', 'LS_SGD', 'LS', 'RIDGE', 'LR_GD', 'LR_SGD']\n",
    "\n",
    "results = np.zeros(4*6)\n",
    "results = results.reshape(6,4)\n",
    "\n",
    "rmse_tr_ls_gd, rmse_te_ls_gd, results[0,0], results[0,1], results[0,2], results[0,3], w_gd = apply_cross_validation(y, tx, k_indices, k_fold, degree, least_squares_GD, initial_w, max_iters, gamma, lambda_)\n",
    "\n",
    "rmse_tr_ls_sgd, rmse_te_ls_sgd, results[1,0], results[1,1], results[1,2], results[1,3], w_sgd = apply_cross_validation(y, tx, k_indices, k_fold, degree, least_squares_SGD, initial_w, max_iters, gamma, lambda_)\n",
    "#print(rmse_tr_ls_sgd, rmse_te_ls_sgd)\n",
    "\n",
    "rmse_tr_ls, rmse_te_ls, results[2,0], results[2,1], results[2,2], results[2,3], w_ls = apply_cross_validation(y, tx, k_indices, k_fold, degree, least_squares)\n",
    "#print(rmse_tr_ls, rmse_te_ls)\n",
    "\n",
    "rmse_tr_ridge, rmse_te_ridge, results[3,0], results[3,1], results[3,2], results[3,3], w_rr = apply_cross_validation(y, tx, k_indices, k_fold, degree, ridge_regression, lambda_)\n",
    "#print(rmse_tr_ridge, rmse_te_ridge)\n",
    "\n",
    "rmse_tr_lr_gd, rmse_te_lr_gd, results[4,0], results[4,1], results[4,2], results[4,3], w_lr= apply_cross_validation(y, tx, k_indices, k_fold, degree, logistic_regression_gd, initial_w, max_iters, gamma)\n",
    "#print(rmse_tr_lr_gd, rmse_te_lr_gd)\n",
    "\n",
    "rmse_tr_lr_reg, rmse_te_lr_reg, results[5,0], results[5,1], results[5,2], results[5,3], w_lr_reg = apply_cross_validation(y, tx, k_indices, k_fold, degree, logistic_regression_reg, initial_w, max_iters, gamma, lambda_)\n",
    "#print(rmse_tr_lr_reg, rmse_te_lr_reg)"
   ]
  },
  {
   "cell_type": "code",
   "execution_count": 25,
   "id": "ec8c563f",
   "metadata": {},
   "outputs": [
    {
     "data": {
      "image/png": "[encoded data removed]",
      "text/plain": [
       "<Figure size 1800x1008 with 6 Axes>"
      ]
     },
     "metadata": {
      "needs_background": "light"
     },
     "output_type": "display_data"
    }
   ],
   "source": [
    "fig, axs = plt.subplots(2,3,figsize=(25,14), sharey=True)\n",
    "for res in np.arange(results.shape[0]):\n",
    "        #print(res//3, res%3)\n",
    "        barWidth = 0.3\n",
    "        bars = ('train accuracy', 'test accuracy', 'train f1', 'test f1')\n",
    "\n",
    "        # Create bars\n",
    "        height = results[res]\n",
    "        axs[res//3,res%3].bar(bars, height, color=(0.2, 0.4, 0.6, 0.8))\n",
    "        # Create names on the x-axis\n",
    "        axs[res//3,res%3].set_title(methods[res])\n",
    "        \n",
    "\n",
    "# Show graphic\n",
    "plt.show()"
   ]
  },
  {
   "cell_type": "code",
   "execution_count": 37,
   "id": "bf12cbca",
   "metadata": {},
   "outputs": [],
   "source": [
    "DATA_TEST_PATH = r'C:/Users/Tomas/GitHub/ML_course/projects/project1/data/test1.csv/test.csv' # TODO: download train data and supply path here \n",
    "_, tx_test, ids_test = load_csv_data(DATA_TEST_PATH)"
   ]
  },
  {
   "cell_type": "code",
   "execution_count": 38,
   "id": "1a47588f",
   "metadata": {},
   "outputs": [],
   "source": [
    "OUTPUT_PATH =  r'C:/Users/Tomas/GitHub/ML_course/projects/project1/data/test_rr.csv' # TODO: fill in desired name of output file for submission\n",
    "y_pred = predict_labels(w_rr, tx_test)\n",
    "create_csv_submission(ids_test, y_pred, OUTPUT_PATH)"
   ]
  },
  {
   "cell_type": "code",
   "execution_count": null,
   "id": "67b5b94a",
   "metadata": {},
   "outputs": [],
   "source": []
  }
 ],
 "metadata": {
  "kernelspec": {
   "display_name": "Python 3",
   "language": "python",
   "name": "python3"
  },
  "language_info": {
   "codemirror_mode": {
    "name": "ipython",
    "version": 3
   },
   "file_extension": ".py",
   "mimetype": "text/x-python",
   "name": "python",
   "nbconvert_exporter": "python",
   "pygments_lexer": "ipython3",
   "version": "3.8.8"
  }
 },
 "nbformat": 4,
 "nbformat_minor": 5
}
