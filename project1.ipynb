{
 "cells": [
  {
   "cell_type": "code",
   "execution_count": 1,
   "metadata": {},
   "outputs": [],
   "source": [
    "# Useful starting lines\n",
    "%matplotlib inline\n",
    "import numpy as np\n",
    "import matplotlib.pyplot as plt\n",
    "%load_ext autoreload\n",
    "%autoreload 2\n",
    "import os"
   ]
  },
  {
   "cell_type": "markdown",
   "metadata": {},
   "source": [
    "## Load the training data into feature matrix, class labels, and event ids:"
   ]
  },
  {
   "cell_type": "code",
   "execution_count": 2,
   "metadata": {},
   "outputs": [
    {
     "name": "stdout",
     "output_type": "stream",
     "text": [
      "(250000,)\n",
      "(250000, 30)\n",
      "(250000,)\n"
     ]
    }
   ],
   "source": [
    "from proj1_helpers import *\n",
    "DATA_TRAIN_PATH = r'C:\\Users\\Tomas\\GitHub\\ML_course\\projects\\project1\\data\\train1.csv\\train.csv' # TODO: download train data and supply path here \n",
    "y, tx, ids = load_csv_data(DATA_TRAIN_PATH)\n",
    "print(y.shape)\n",
    "print(tx.shape)\n",
    "print(ids.shape)"
   ]
  },
  {
   "cell_type": "code",
   "execution_count": 3,
   "metadata": {},
   "outputs": [],
   "source": [
    "def compute_error(y, tx, w):\n",
    "    e = y-np.matmul(tx, w)\n",
    "    return e\n",
    "\n",
    "def compute_loss(y, tx, w):\n",
    "    N = len(y)\n",
    "    e = compute_error(y, tx, w)\n",
    "    mse = 1/(2*N)*np.sum(e**2)\n",
    "    rmse = np.sqrt(2*mse)\n",
    "    return rmse"
   ]
  },
  {
   "cell_type": "code",
   "execution_count": 4,
   "metadata": {},
   "outputs": [],
   "source": [
    "def compute_gradient(y, tx, w):\n",
    "    N = len(y)\n",
    "    e = compute_error(y, tx, w)\n",
    "    grad = (-1/N)*np.matmul(tx.T,e)\n",
    "    return grad\n",
    "\n",
    "def least_squares_GD(y, tx, initial_w, max_iters, gamma):\n",
    "    w = initial_w\n",
    "    for n_iter in range(max_iters):\n",
    "        grad = compute_gradient(y, tx, w)\n",
    "        w -= gamma*grad\n",
    "    loss = compute_loss(y, tx, w)\n",
    "    print(\"Gradient Descent: loss is \", loss)\n",
    "    return w, loss"
   ]
  },
  {
   "cell_type": "code",
   "execution_count": 5,
   "metadata": {},
   "outputs": [],
   "source": [
    "def compute_stoch_gradient(y, tx, w):\n",
    "    N = len(y)\n",
    "    e = compute_error(y, tx, w)\n",
    "    grad = (-1/N)*np.matmul(tx.T,e)\n",
    "    return grad\n",
    "\n",
    "def least_squares_SGD(y, tx, initial_w, max_iters, gamma,  batch_size = 1):\n",
    "    losses = []\n",
    "    w = initial_w\n",
    "    for n_iter in range(max_iters):\n",
    "        for ymini, txmini in batch_iter(y, tx, batch_size, num_batches=1, shuffle=True):\n",
    "            grad = compute_gradient(ymini, txmini, w)\n",
    "            w -= gamma*grad\n",
    "    loss = compute_loss(ymini, txmini, w)\n",
    "    print(\"Stochastic Gradient Descent: loss is \", loss)\n",
    "    return w, loss"
   ]
  },
  {
   "cell_type": "code",
   "execution_count": 6,
   "metadata": {},
   "outputs": [],
   "source": [
    "def least_squares(y, tx):\n",
    "    N = len(y)\n",
    "    w = np.linalg.solve(np.matmul(tx.T, tx), np.matmul(tx.T,y))\n",
    "    loss = compute_loss(y, tx, w)\n",
    "    print(\"Least squares: loss is \", loss)\n",
    "    return w, loss"
   ]
  },
  {
   "cell_type": "code",
   "execution_count": 7,
   "metadata": {},
   "outputs": [],
   "source": [
    "def ridge_regression(y, phi, lambda_):\n",
    "    N=len(phi)\n",
    "    lambda_acc=2*N*lambda_\n",
    "    kwad = np.matmul(phi.T,phi)\n",
    "    w = np.linalg.solve(kwad+lambda_acc*np.eye(kwad.shape[0]),np.matmul(phi.T,y))\n",
    "    loss = compute_loss(y, phi, w)\n",
    "    print(\"Ridge regression: loss is \", loss)\n",
    "    return w, loss"
   ]
  },
  {
   "cell_type": "code",
   "execution_count": 8,
   "metadata": {},
   "outputs": [],
   "source": [
    "def logistic_regression(y, tx, initial_w, max_iters, gamma):\n",
    "    \n",
    "    return w, loss"
   ]
  },
  {
   "cell_type": "code",
   "execution_count": 9,
   "metadata": {},
   "outputs": [],
   "source": [
    "def reg_logistic_regression(y, tx, lambda_, initial_w, max_iters, gamma):\n",
    "    \n",
    "    return w, loss\n",
    "\n"
   ]
  },
  {
   "cell_type": "markdown",
   "metadata": {},
   "source": [
    "## Generate predictions and save ouput in csv format for submission:"
   ]
  },
  {
   "cell_type": "code",
   "execution_count": 10,
   "metadata": {},
   "outputs": [],
   "source": [
    "DATA_TEST_PATH = r'C:\\Users\\Tomas\\GitHub\\ML_course\\projects\\project1\\data\\test1.csv\\test.csv' # TODO: download test data and supply path here \n",
    "_, tX_test, ids_test = load_csv_data(DATA_TEST_PATH)"
   ]
  },
  {
   "cell_type": "code",
   "execution_count": 11,
   "metadata": {},
   "outputs": [],
   "source": [
    "#initial_w = np.ones((tx.shape[1]))\n",
    "max_iters = 10\n",
    "gamma = 0.0000000001\n",
    "lambda_ = 0.4"
   ]
  },
  {
   "cell_type": "code",
   "execution_count": 21,
   "metadata": {},
   "outputs": [
    {
     "name": "stdout",
     "output_type": "stream",
     "text": [
      "Least squares: loss is  0.8242412383241149\n",
      "Gradient Descent: loss is  0.8242412383241149\n",
      "Stochastic Gradient Descent: loss is  0.6128524292373684\n",
      "Ridge regression: loss is  0.8377083826285315\n"
     ]
    }
   ],
   "source": [
    "weights_ls, loss_ls = least_squares(y, tx)\n",
    "initial_w = weights_ls\n",
    "\n",
    "weights_gd, loss_gd = least_squares_GD(y, tx, initial_w, max_iters, gamma)\n",
    "weights_sgd, loss_sgd = least_squares_SGD(y, tx, initial_w, max_iters, gamma)\n",
    "weights_ridge, loss_ridge = ridge_regression(y, tx, lambda_)\n",
    "\n",
    "rmse_list = []\n",
    "rmse_list.extend([loss_ls, loss_gd, loss_sgd, loss_ridge])"
   ]
  },
  {
   "cell_type": "code",
   "execution_count": 25,
   "metadata": {},
   "outputs": [
    {
     "data": {
      "image/png": "[encoded data removed]",
      "text/plain": [
       "<Figure size 432x288 with 1 Axes>"
      ]
     },
     "metadata": {
      "needs_background": "light"
     },
     "output_type": "display_data"
    }
   ],
   "source": [
    "barWidth = 0.3\n",
    "bars = ('LS', 'GD', 'SGD', 'RR')\n",
    "y_pos = np.arange(len(bars))\n",
    "\n",
    "# Create bars\n",
    "height = rmse_list\n",
    "plt.bar(y_pos, height, color=(0.2, 0.4, 0.6, 0.8))\n",
    "\n",
    "# Create names on the x-axis\n",
    "plt.xticks(y_pos, bars)\n",
    "plt.title('Loss functions (RMSE) of the different models')\n",
    "plt.ylabel('RMSE')\n",
    "\n",
    "# Show graphic\n",
    "plt.show()"
   ]
  },
  {
   "cell_type": "code",
   "execution_count": null,
   "metadata": {},
   "outputs": [],
   "source": [
    "OUTPUT_PATH = r'C:\\Users\\Tomas\\GitHub\\ML_course\\projects\\project1\\predictions_sgd.csv' # TODO: fill in desired name of output file for submission\n",
    "y_pred = predict_labels(weights_sgd, tX_test)\n",
    "create_csv_submission(ids_test, y_pred, OUTPUT_PATH)"
   ]
  },
  {
   "cell_type": "code",
   "execution_count": null,
   "metadata": {},
   "outputs": [],
   "source": []
  },
  {
   "cell_type": "code",
   "execution_count": null,
   "metadata": {},
   "outputs": [],
   "source": []
  }
 ],
 "metadata": {
  "anaconda-cloud": {},
  "kernelspec": {
   "display_name": "Python 3",
   "language": "python",
   "name": "python3"
  },
  "language_info": {
   "codemirror_mode": {
    "name": "ipython",
    "version": 3
   },
   "file_extension": ".py",
   "mimetype": "text/x-python",
   "name": "python",
   "nbconvert_exporter": "python",
   "pygments_lexer": "ipython3",
   "version": "3.8.8"
  }
 },
 "nbformat": 4,
 "nbformat_minor": 1
}
